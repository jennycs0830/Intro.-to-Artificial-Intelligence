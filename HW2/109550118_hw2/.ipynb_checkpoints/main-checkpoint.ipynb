{
 "cells": [
  {
   "cell_type": "code",
   "execution_count": 1,
   "id": "likely-spring",
   "metadata": {},
   "outputs": [
    {
     "name": "stdout",
     "output_type": "stream",
     "text": [
      "Collecting folium\n",
      "  Using cached folium-0.12.1.post1-py2.py3-none-any.whl (95 kB)\n",
      "Requirement already satisfied: numpy in c:\\users\\jenny\\anaconda3\\lib\\site-packages (from folium) (1.20.3)\n",
      "Collecting branca>=0.3.0\n",
      "  Using cached branca-0.4.2-py3-none-any.whl (24 kB)\n",
      "Requirement already satisfied: jinja2>=2.9 in c:\\users\\jenny\\anaconda3\\lib\\site-packages (from folium) (2.11.3)\n",
      "Requirement already satisfied: requests in c:\\users\\jenny\\anaconda3\\lib\\site-packages (from folium) (2.26.0)\n",
      "Requirement already satisfied: MarkupSafe>=0.23 in c:\\users\\jenny\\anaconda3\\lib\\site-packages (from jinja2>=2.9->folium) (1.1.1)\n",
      "Requirement already satisfied: certifi>=2017.4.17 in c:\\users\\jenny\\anaconda3\\lib\\site-packages (from requests->folium) (2021.10.8)\n",
      "Requirement already satisfied: charset-normalizer~=2.0.0 in c:\\users\\jenny\\anaconda3\\lib\\site-packages (from requests->folium) (2.0.4)\n",
      "Requirement already satisfied: urllib3<1.27,>=1.21.1 in c:\\users\\jenny\\anaconda3\\lib\\site-packages (from requests->folium) (1.26.7)\n",
      "Requirement already satisfied: idna<4,>=2.5 in c:\\users\\jenny\\anaconda3\\lib\\site-packages (from requests->folium) (3.2)\n",
      "Installing collected packages: branca, folium\n",
      "Successfully installed branca-0.4.2 folium-0.12.1.post1\n",
      "Note: you may need to restart the kernel to use updated packages.\n"
     ]
    }
   ],
   "source": [
    "# For Google Colab\n",
    "# Install folium package.\n",
    "%pip install folium"
   ]
  },
  {
   "cell_type": "code",
   "execution_count": 2,
   "id": "legislative-animal",
   "metadata": {},
   "outputs": [
    {
     "ename": "ModuleNotFoundError",
     "evalue": "No module named 'google'",
     "output_type": "error",
     "traceback": [
      "\u001b[1;31m---------------------------------------------------------------------------\u001b[0m",
      "\u001b[1;31mModuleNotFoundError\u001b[0m                       Traceback (most recent call last)",
      "\u001b[1;32m~\\AppData\\Local\\Temp/ipykernel_18644/629930012.py\u001b[0m in \u001b[0;36m<module>\u001b[1;34m\u001b[0m\n\u001b[0;32m      2\u001b[0m \u001b[1;31m# Mount your Google drive and copy all files from \"AI_HW2\" directory\u001b[0m\u001b[1;33m\u001b[0m\u001b[1;33m\u001b[0m\u001b[0m\n\u001b[0;32m      3\u001b[0m \u001b[1;31m# in your Google drive to current directory.\u001b[0m\u001b[1;33m\u001b[0m\u001b[1;33m\u001b[0m\u001b[0m\n\u001b[1;32m----> 4\u001b[1;33m \u001b[1;32mfrom\u001b[0m \u001b[0mgoogle\u001b[0m\u001b[1;33m.\u001b[0m\u001b[0mcolab\u001b[0m \u001b[1;32mimport\u001b[0m \u001b[0mdrive\u001b[0m\u001b[1;33m\u001b[0m\u001b[1;33m\u001b[0m\u001b[0m\n\u001b[0m\u001b[0;32m      5\u001b[0m \u001b[0mdrive\u001b[0m\u001b[1;33m.\u001b[0m\u001b[0mmount\u001b[0m\u001b[1;33m(\u001b[0m\u001b[1;34m'/content/gdrive'\u001b[0m\u001b[1;33m)\u001b[0m\u001b[1;33m\u001b[0m\u001b[1;33m\u001b[0m\u001b[0m\n\u001b[0;32m      6\u001b[0m \u001b[0mget_ipython\u001b[0m\u001b[1;33m(\u001b[0m\u001b[1;33m)\u001b[0m\u001b[1;33m.\u001b[0m\u001b[0msystem\u001b[0m\u001b[1;33m(\u001b[0m\u001b[1;34m'cp -r ./gdrive/MyDrive/AI_HW2/* .'\u001b[0m\u001b[1;33m)\u001b[0m\u001b[1;33m\u001b[0m\u001b[1;33m\u001b[0m\u001b[0m\n",
      "\u001b[1;31mModuleNotFoundError\u001b[0m: No module named 'google'"
     ]
    }
   ],
   "source": [
    "# For Google Colab\n",
    "# Mount your Google drive and copy all files from \"AI_HW2\" directory\n",
    "# in your Google drive to current directory.\n",
    "from google.colab import drive\n",
    "drive.mount('/content/gdrive')\n",
    "!cp -r ./gdrive/MyDrive/AI_HW2/* ."
   ]
  },
  {
   "cell_type": "code",
   "execution_count": null,
   "id": "legitimate-luxury",
   "metadata": {},
   "outputs": [],
   "source": [
    "# Don't change this part.\n",
    "# For load graph information and show map\n",
    "import folium\n",
    "import pickle\n",
    "def load_path_graph(path):\n",
    "    with open('graph.pkl', 'rb') as f:\n",
    "        graph = pickle.load(f)\n",
    "\n",
    "    node_pairs = list(zip(path[:-1], path[1:]))\n",
    "    lines = []\n",
    "    for edge in graph:\n",
    "        if (edge['u'], edge['v']) in node_pairs or  (edge['v'], edge['u']) in node_pairs:\n",
    "            lines.append(edge['geometry'])\n",
    "    return lines"
   ]
  },
  {
   "cell_type": "code",
   "execution_count": 3,
   "id": "functioning-photograph",
   "metadata": {},
   "outputs": [],
   "source": [
    "# Part 1~4 and 6\n",
    "# You can wirte in new .py files and import it.\n",
    "# ex: from astar import astar\n",
    "from bfs import bfs\n",
    "from dfs_stack import dfs\n",
    "from ucs import ucs\n",
    "from astar import astar\n",
    "from astar_time import astar_time"
   ]
  },
  {
   "cell_type": "code",
   "execution_count": 4,
   "id": "collective-martin",
   "metadata": {},
   "outputs": [],
   "source": [
    "# Part 5\n",
    "# Change start ID and end ID.\n",
    "start = 2270143902\n",
    "end = 1079387396"
   ]
  },
  {
   "cell_type": "code",
   "execution_count": 5,
   "id": "burning-green",
   "metadata": {
    "scrolled": false
   },
   "outputs": [
    {
     "ename": "NotImplementedError",
     "evalue": "To be implemented",
     "output_type": "error",
     "traceback": [
      "\u001b[1;31m---------------------------------------------------------------------------\u001b[0m",
      "\u001b[1;31mNotImplementedError\u001b[0m                       Traceback (most recent call last)",
      "\u001b[1;32m~\\AppData\\Local\\Temp/ipykernel_18644/3959179004.py\u001b[0m in \u001b[0;36m<module>\u001b[1;34m\u001b[0m\n\u001b[0;32m      1\u001b[0m \u001b[1;31m# Don't change this part.\u001b[0m\u001b[1;33m\u001b[0m\u001b[1;33m\u001b[0m\u001b[0m\n\u001b[0;32m      2\u001b[0m \u001b[1;31m# Show the result of BFS\u001b[0m\u001b[1;33m\u001b[0m\u001b[1;33m\u001b[0m\u001b[0m\n\u001b[1;32m----> 3\u001b[1;33m \u001b[0mbfs_path\u001b[0m\u001b[1;33m,\u001b[0m \u001b[0mbfs_dist\u001b[0m\u001b[1;33m,\u001b[0m \u001b[0mbfs_visited\u001b[0m \u001b[1;33m=\u001b[0m \u001b[0mbfs\u001b[0m\u001b[1;33m(\u001b[0m\u001b[0mstart\u001b[0m\u001b[1;33m,\u001b[0m \u001b[0mend\u001b[0m\u001b[1;33m)\u001b[0m\u001b[1;33m\u001b[0m\u001b[1;33m\u001b[0m\u001b[0m\n\u001b[0m\u001b[0;32m      4\u001b[0m \u001b[0mprint\u001b[0m\u001b[1;33m(\u001b[0m\u001b[1;34mf'The number of nodes in the path found by BFS: {len(bfs_path)}'\u001b[0m\u001b[1;33m)\u001b[0m\u001b[1;33m\u001b[0m\u001b[1;33m\u001b[0m\u001b[0m\n\u001b[0;32m      5\u001b[0m \u001b[0mprint\u001b[0m\u001b[1;33m(\u001b[0m\u001b[1;34mf'Total distance of path found by BFS: {bfs_dist} m'\u001b[0m\u001b[1;33m)\u001b[0m\u001b[1;33m\u001b[0m\u001b[1;33m\u001b[0m\u001b[0m\n",
      "\u001b[1;32m~\\Downloads\\AI_HW2\\AI_HW2\\bfs.py\u001b[0m in \u001b[0;36mbfs\u001b[1;34m(start, end)\u001b[0m\n\u001b[0;32m      5\u001b[0m \u001b[1;32mdef\u001b[0m \u001b[0mbfs\u001b[0m\u001b[1;33m(\u001b[0m\u001b[0mstart\u001b[0m\u001b[1;33m,\u001b[0m \u001b[0mend\u001b[0m\u001b[1;33m)\u001b[0m\u001b[1;33m:\u001b[0m\u001b[1;33m\u001b[0m\u001b[1;33m\u001b[0m\u001b[0m\n\u001b[0;32m      6\u001b[0m     \u001b[1;31m# Begin your code (Part 1)\u001b[0m\u001b[1;33m\u001b[0m\u001b[1;33m\u001b[0m\u001b[0m\n\u001b[1;32m----> 7\u001b[1;33m     \u001b[1;32mraise\u001b[0m \u001b[0mNotImplementedError\u001b[0m\u001b[1;33m(\u001b[0m\u001b[1;34m\"To be implemented\"\u001b[0m\u001b[1;33m)\u001b[0m\u001b[1;33m\u001b[0m\u001b[1;33m\u001b[0m\u001b[0m\n\u001b[0m\u001b[0;32m      8\u001b[0m     \u001b[1;31m# End your code (Part 1)\u001b[0m\u001b[1;33m\u001b[0m\u001b[1;33m\u001b[0m\u001b[0m\n\u001b[0;32m      9\u001b[0m \u001b[1;33m\u001b[0m\u001b[0m\n",
      "\u001b[1;31mNotImplementedError\u001b[0m: To be implemented"
     ]
    }
   ],
   "source": [
    "# Don't change this part.\n",
    "# Show the result of BFS\n",
    "bfs_path, bfs_dist, bfs_visited = bfs(start, end)\n",
    "print(f'The number of nodes in the path found by BFS: {len(bfs_path)}')\n",
    "print(f'Total distance of path found by BFS: {bfs_dist} m')\n",
    "print(f'The number of visited nodes in BFS: {bfs_visited}\\n')\n",
    "\n",
    "fmap = folium.Map(location=(24.806383132251874, 120.97685775516189), zoom_start=13)\n",
    "for line in load_path_graph(bfs_path):\n",
    "    fmap.add_child(folium.PolyLine(locations=line, tooltip='bfs', weight=4, color='blue'))\n",
    "fmap"
   ]
  },
  {
   "cell_type": "code",
   "execution_count": 6,
   "id": "dirty-strip",
   "metadata": {},
   "outputs": [
    {
     "ename": "NotImplementedError",
     "evalue": "To be implemented",
     "output_type": "error",
     "traceback": [
      "\u001b[1;31m---------------------------------------------------------------------------\u001b[0m",
      "\u001b[1;31mNotImplementedError\u001b[0m                       Traceback (most recent call last)",
      "\u001b[1;32m~\\AppData\\Local\\Temp/ipykernel_18644/1245795445.py\u001b[0m in \u001b[0;36m<module>\u001b[1;34m\u001b[0m\n\u001b[0;32m      1\u001b[0m \u001b[1;31m# Don't change this part.\u001b[0m\u001b[1;33m\u001b[0m\u001b[1;33m\u001b[0m\u001b[0m\n\u001b[0;32m      2\u001b[0m \u001b[1;31m# Show the result of DFS\u001b[0m\u001b[1;33m\u001b[0m\u001b[1;33m\u001b[0m\u001b[0m\n\u001b[1;32m----> 3\u001b[1;33m \u001b[0mdfs_path\u001b[0m\u001b[1;33m,\u001b[0m \u001b[0mdfs_dist\u001b[0m\u001b[1;33m,\u001b[0m \u001b[0mdfs_visited\u001b[0m \u001b[1;33m=\u001b[0m \u001b[0mdfs\u001b[0m\u001b[1;33m(\u001b[0m\u001b[0mstart\u001b[0m\u001b[1;33m,\u001b[0m \u001b[0mend\u001b[0m\u001b[1;33m)\u001b[0m\u001b[1;33m\u001b[0m\u001b[1;33m\u001b[0m\u001b[0m\n\u001b[0m\u001b[0;32m      4\u001b[0m \u001b[0mprint\u001b[0m\u001b[1;33m(\u001b[0m\u001b[1;34mf'The number of nodes in the path found by DFS: {len(dfs_path)}'\u001b[0m\u001b[1;33m)\u001b[0m\u001b[1;33m\u001b[0m\u001b[1;33m\u001b[0m\u001b[0m\n\u001b[0;32m      5\u001b[0m \u001b[0mprint\u001b[0m\u001b[1;33m(\u001b[0m\u001b[1;34mf'Total distance of path found by DFS: {dfs_dist} m'\u001b[0m\u001b[1;33m)\u001b[0m\u001b[1;33m\u001b[0m\u001b[1;33m\u001b[0m\u001b[0m\n",
      "\u001b[1;32m~\\Downloads\\AI_HW2\\AI_HW2\\dfs_stack.py\u001b[0m in \u001b[0;36mdfs\u001b[1;34m(start, end)\u001b[0m\n\u001b[0;32m      5\u001b[0m \u001b[1;32mdef\u001b[0m \u001b[0mdfs\u001b[0m\u001b[1;33m(\u001b[0m\u001b[0mstart\u001b[0m\u001b[1;33m,\u001b[0m \u001b[0mend\u001b[0m\u001b[1;33m)\u001b[0m\u001b[1;33m:\u001b[0m\u001b[1;33m\u001b[0m\u001b[1;33m\u001b[0m\u001b[0m\n\u001b[0;32m      6\u001b[0m     \u001b[1;31m# Begin your code (Part 2)\u001b[0m\u001b[1;33m\u001b[0m\u001b[1;33m\u001b[0m\u001b[0m\n\u001b[1;32m----> 7\u001b[1;33m     \u001b[1;32mraise\u001b[0m \u001b[0mNotImplementedError\u001b[0m\u001b[1;33m(\u001b[0m\u001b[1;34m\"To be implemented\"\u001b[0m\u001b[1;33m)\u001b[0m\u001b[1;33m\u001b[0m\u001b[1;33m\u001b[0m\u001b[0m\n\u001b[0m\u001b[0;32m      8\u001b[0m     \u001b[1;31m# End your code (Part 2)\u001b[0m\u001b[1;33m\u001b[0m\u001b[1;33m\u001b[0m\u001b[0m\n\u001b[0;32m      9\u001b[0m \u001b[1;33m\u001b[0m\u001b[0m\n",
      "\u001b[1;31mNotImplementedError\u001b[0m: To be implemented"
     ]
    }
   ],
   "source": [
    "# Don't change this part.\n",
    "# Show the result of DFS\n",
    "dfs_path, dfs_dist, dfs_visited = dfs(start, end)\n",
    "print(f'The number of nodes in the path found by DFS: {len(dfs_path)}')\n",
    "print(f'Total distance of path found by DFS: {dfs_dist} m')\n",
    "print(f'The number of visited nodes in DFS: {dfs_visited}\\n')\n",
    "\n",
    "fmap = folium.Map(location=(24.806383132251874, 120.97685775516189), zoom_start=13)\n",
    "for line in load_path_graph(dfs_path):\n",
    "    fmap.add_child(folium.PolyLine(locations=line, tooltip='dfs', weight=4, color='green'))\n",
    "fmap"
   ]
  },
  {
   "cell_type": "code",
   "execution_count": 7,
   "id": "broke-target",
   "metadata": {},
   "outputs": [
    {
     "ename": "NotImplementedError",
     "evalue": "To be implemented",
     "output_type": "error",
     "traceback": [
      "\u001b[1;31m---------------------------------------------------------------------------\u001b[0m",
      "\u001b[1;31mNotImplementedError\u001b[0m                       Traceback (most recent call last)",
      "\u001b[1;32m~\\AppData\\Local\\Temp/ipykernel_18644/4034516914.py\u001b[0m in \u001b[0;36m<module>\u001b[1;34m\u001b[0m\n\u001b[0;32m      1\u001b[0m \u001b[1;31m# Don't change this part.\u001b[0m\u001b[1;33m\u001b[0m\u001b[1;33m\u001b[0m\u001b[0m\n\u001b[0;32m      2\u001b[0m \u001b[1;31m# Show the result of UCS\u001b[0m\u001b[1;33m\u001b[0m\u001b[1;33m\u001b[0m\u001b[0m\n\u001b[1;32m----> 3\u001b[1;33m \u001b[0mucs_path\u001b[0m\u001b[1;33m,\u001b[0m \u001b[0mucs_dist\u001b[0m\u001b[1;33m,\u001b[0m \u001b[0mucs_visited\u001b[0m \u001b[1;33m=\u001b[0m \u001b[0mucs\u001b[0m\u001b[1;33m(\u001b[0m\u001b[0mstart\u001b[0m\u001b[1;33m,\u001b[0m \u001b[0mend\u001b[0m\u001b[1;33m)\u001b[0m\u001b[1;33m\u001b[0m\u001b[1;33m\u001b[0m\u001b[0m\n\u001b[0m\u001b[0;32m      4\u001b[0m \u001b[0mprint\u001b[0m\u001b[1;33m(\u001b[0m\u001b[1;34mf'The number of nodes in the path found by UCS: {len(ucs_path)}'\u001b[0m\u001b[1;33m)\u001b[0m\u001b[1;33m\u001b[0m\u001b[1;33m\u001b[0m\u001b[0m\n\u001b[0;32m      5\u001b[0m \u001b[0mprint\u001b[0m\u001b[1;33m(\u001b[0m\u001b[1;34mf'Total distance of path found by UCS: {ucs_dist} m'\u001b[0m\u001b[1;33m)\u001b[0m\u001b[1;33m\u001b[0m\u001b[1;33m\u001b[0m\u001b[0m\n",
      "\u001b[1;32m~\\Downloads\\AI_HW2\\AI_HW2\\ucs.py\u001b[0m in \u001b[0;36mucs\u001b[1;34m(start, end)\u001b[0m\n\u001b[0;32m      5\u001b[0m \u001b[1;32mdef\u001b[0m \u001b[0mucs\u001b[0m\u001b[1;33m(\u001b[0m\u001b[0mstart\u001b[0m\u001b[1;33m,\u001b[0m \u001b[0mend\u001b[0m\u001b[1;33m)\u001b[0m\u001b[1;33m:\u001b[0m\u001b[1;33m\u001b[0m\u001b[1;33m\u001b[0m\u001b[0m\n\u001b[0;32m      6\u001b[0m     \u001b[1;31m# Begin your code (Part 3)\u001b[0m\u001b[1;33m\u001b[0m\u001b[1;33m\u001b[0m\u001b[0m\n\u001b[1;32m----> 7\u001b[1;33m     \u001b[1;32mraise\u001b[0m \u001b[0mNotImplementedError\u001b[0m\u001b[1;33m(\u001b[0m\u001b[1;34m\"To be implemented\"\u001b[0m\u001b[1;33m)\u001b[0m\u001b[1;33m\u001b[0m\u001b[1;33m\u001b[0m\u001b[0m\n\u001b[0m\u001b[0;32m      8\u001b[0m     \u001b[1;31m# End your code (Part 3)\u001b[0m\u001b[1;33m\u001b[0m\u001b[1;33m\u001b[0m\u001b[0m\n\u001b[0;32m      9\u001b[0m \u001b[1;33m\u001b[0m\u001b[0m\n",
      "\u001b[1;31mNotImplementedError\u001b[0m: To be implemented"
     ]
    }
   ],
   "source": [
    "# Don't change this part.\n",
    "# Show the result of UCS\n",
    "ucs_path, ucs_dist, ucs_visited = ucs(start, end)\n",
    "print(f'The number of nodes in the path found by UCS: {len(ucs_path)}')\n",
    "print(f'Total distance of path found by UCS: {ucs_dist} m')\n",
    "print(f'The number of visited nodes in UCS: {ucs_visited}\\n')\n",
    "\n",
    "fmap = folium.Map(location=(24.806383132251874, 120.97685775516189), zoom_start=13)\n",
    "for line in load_path_graph(ucs_path):\n",
    "    fmap.add_child(folium.PolyLine(locations=line, tooltip='ucs', weight=4, color='violet'))\n",
    "fmap"
   ]
  },
  {
   "cell_type": "code",
   "execution_count": 8,
   "id": "stable-lightweight",
   "metadata": {},
   "outputs": [
    {
     "ename": "NotImplementedError",
     "evalue": "To be implemented",
     "output_type": "error",
     "traceback": [
      "\u001b[1;31m---------------------------------------------------------------------------\u001b[0m",
      "\u001b[1;31mNotImplementedError\u001b[0m                       Traceback (most recent call last)",
      "\u001b[1;32m~\\AppData\\Local\\Temp/ipykernel_18644/2595397270.py\u001b[0m in \u001b[0;36m<module>\u001b[1;34m\u001b[0m\n\u001b[0;32m      1\u001b[0m \u001b[1;31m# Don't change this part.\u001b[0m\u001b[1;33m\u001b[0m\u001b[1;33m\u001b[0m\u001b[0m\n\u001b[0;32m      2\u001b[0m \u001b[1;31m# Show the result of A* search\u001b[0m\u001b[1;33m\u001b[0m\u001b[1;33m\u001b[0m\u001b[0m\n\u001b[1;32m----> 3\u001b[1;33m \u001b[0mastar_path\u001b[0m\u001b[1;33m,\u001b[0m \u001b[0mastar_dist\u001b[0m\u001b[1;33m,\u001b[0m \u001b[0mastar_visited\u001b[0m \u001b[1;33m=\u001b[0m \u001b[0mastar\u001b[0m\u001b[1;33m(\u001b[0m\u001b[0mstart\u001b[0m\u001b[1;33m,\u001b[0m \u001b[0mend\u001b[0m\u001b[1;33m)\u001b[0m\u001b[1;33m\u001b[0m\u001b[1;33m\u001b[0m\u001b[0m\n\u001b[0m\u001b[0;32m      4\u001b[0m \u001b[0mprint\u001b[0m\u001b[1;33m(\u001b[0m\u001b[1;34mf'The number of nodes in the path found by A* search: {len(astar_path)}'\u001b[0m\u001b[1;33m)\u001b[0m\u001b[1;33m\u001b[0m\u001b[1;33m\u001b[0m\u001b[0m\n\u001b[0;32m      5\u001b[0m \u001b[0mprint\u001b[0m\u001b[1;33m(\u001b[0m\u001b[1;34mf'Total distance of path found by A* search: {astar_dist} m'\u001b[0m\u001b[1;33m)\u001b[0m\u001b[1;33m\u001b[0m\u001b[1;33m\u001b[0m\u001b[0m\n",
      "\u001b[1;32m~\\Downloads\\AI_HW2\\AI_HW2\\astar.py\u001b[0m in \u001b[0;36mastar\u001b[1;34m(start, end)\u001b[0m\n\u001b[0;32m      6\u001b[0m \u001b[1;32mdef\u001b[0m \u001b[0mastar\u001b[0m\u001b[1;33m(\u001b[0m\u001b[0mstart\u001b[0m\u001b[1;33m,\u001b[0m \u001b[0mend\u001b[0m\u001b[1;33m)\u001b[0m\u001b[1;33m:\u001b[0m\u001b[1;33m\u001b[0m\u001b[1;33m\u001b[0m\u001b[0m\n\u001b[0;32m      7\u001b[0m     \u001b[1;31m# Begin your code (Part 4)\u001b[0m\u001b[1;33m\u001b[0m\u001b[1;33m\u001b[0m\u001b[0m\n\u001b[1;32m----> 8\u001b[1;33m     \u001b[1;32mraise\u001b[0m \u001b[0mNotImplementedError\u001b[0m\u001b[1;33m(\u001b[0m\u001b[1;34m\"To be implemented\"\u001b[0m\u001b[1;33m)\u001b[0m\u001b[1;33m\u001b[0m\u001b[1;33m\u001b[0m\u001b[0m\n\u001b[0m\u001b[0;32m      9\u001b[0m     \u001b[1;31m# End your code (Part 4)\u001b[0m\u001b[1;33m\u001b[0m\u001b[1;33m\u001b[0m\u001b[0m\n\u001b[0;32m     10\u001b[0m \u001b[1;33m\u001b[0m\u001b[0m\n",
      "\u001b[1;31mNotImplementedError\u001b[0m: To be implemented"
     ]
    }
   ],
   "source": [
    "# Don't change this part.\n",
    "# Show the result of A* search\n",
    "astar_path, astar_dist, astar_visited = astar(start, end)\n",
    "print(f'The number of nodes in the path found by A* search: {len(astar_path)}')\n",
    "print(f'Total distance of path found by A* search: {astar_dist} m')\n",
    "print(f'The number of visited nodes in A* search: {astar_visited}\\n')\n",
    "\n",
    "fmap = folium.Map(location=(24.806383132251874, 120.97685775516189), zoom_start=13)\n",
    "for line in load_path_graph(astar_path):\n",
    "    fmap.add_child(folium.PolyLine(locations=line, tooltip='astar', weight=4, color='red'))\n",
    "fmap"
   ]
  },
  {
   "cell_type": "code",
   "execution_count": null,
   "id": "exempt-wagon",
   "metadata": {},
   "outputs": [],
   "source": [
    "# Part 6 (Bonus)\n",
    "# Don't change this part.\n",
    "# Show the shortest time result of A* search\n",
    "time_path, time, time_visited = astar_time(start, end)\n",
    "print(f'The number of nodes in the path found by A* search: {len(time_path)}')\n",
    "print(f'Total second of path found by A* search: {time} s')\n",
    "print(f'The number of visited nodes in A* search: {time_visited}\\n')\n",
    "\n",
    "fmap = folium.Map(location=(24.806383132251874, 120.97685775516189), zoom_start=13)\n",
    "for line in load_path_graph(time_path):\n",
    "    fmap.add_child(folium.PolyLine(locations=line, tooltip='astar', weight=4, color='red'))\n",
    "fmap"
   ]
  },
  {
   "cell_type": "code",
   "execution_count": null,
   "id": "comic-newark",
   "metadata": {},
   "outputs": [],
   "source": [
    "# For Google Colab\n",
    "# Remember to execute this line once you've modified any .py file\n",
    "# Save the .py code you have modified to your Google Drive\n",
    "!cp ./*.py ./gdrive/MyDrive/AI_HW2/"
   ]
  }
 ],
 "metadata": {
  "kernelspec": {
   "display_name": "Python 3 (ipykernel)",
   "language": "python",
   "name": "python3"
  },
  "language_info": {
   "codemirror_mode": {
    "name": "ipython",
    "version": 3
   },
   "file_extension": ".py",
   "mimetype": "text/x-python",
   "name": "python",
   "nbconvert_exporter": "python",
   "pygments_lexer": "ipython3",
   "version": "3.9.7"
  }
 },
 "nbformat": 4,
 "nbformat_minor": 5
}
